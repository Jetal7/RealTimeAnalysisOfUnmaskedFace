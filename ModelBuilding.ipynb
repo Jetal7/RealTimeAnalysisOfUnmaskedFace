{
  "cells": [
    {
      "cell_type": "code",
      "execution_count": null,
      "metadata": {
        "colab": {
          "base_uri": "https://localhost:8080/"
        },
        "id": "T7fxTpOG8QpY",
        "outputId": "4e66b0fb-c14d-4358-f997-5f8264193b1a"
      },
      "outputs": [
        {
          "output_type": "stream",
          "name": "stdout",
          "text": [
            "Looking in indexes: https://pypi.org/simple, https://us-python.pkg.dev/colab-wheels/public/simple/\n",
            "Requirement already satisfied: tensorflow in /usr/local/lib/python3.7/dist-packages (2.8.2+zzzcolab20220719082949)\n",
            "Requirement already satisfied: protobuf<3.20,>=3.9.2 in /usr/local/lib/python3.7/dist-packages (from tensorflow) (3.17.3)\n",
            "Requirement already satisfied: absl-py>=0.4.0 in /usr/local/lib/python3.7/dist-packages (from tensorflow) (1.2.0)\n",
            "Requirement already satisfied: libclang>=9.0.1 in /usr/local/lib/python3.7/dist-packages (from tensorflow) (14.0.6)\n",
            "Requirement already satisfied: keras<2.9,>=2.8.0rc0 in /usr/local/lib/python3.7/dist-packages (from tensorflow) (2.8.0)\n",
            "Requirement already satisfied: tensorflow-io-gcs-filesystem>=0.23.1 in /usr/local/lib/python3.7/dist-packages (from tensorflow) (0.26.0)\n",
            "Requirement already satisfied: h5py>=2.9.0 in /usr/local/lib/python3.7/dist-packages (from tensorflow) (3.1.0)\n",
            "Requirement already satisfied: flatbuffers>=1.12 in /usr/local/lib/python3.7/dist-packages (from tensorflow) (2.0)\n",
            "Requirement already satisfied: setuptools in /usr/local/lib/python3.7/dist-packages (from tensorflow) (57.4.0)\n",
            "Requirement already satisfied: keras-preprocessing>=1.1.1 in /usr/local/lib/python3.7/dist-packages (from tensorflow) (1.1.2)\n",
            "Requirement already satisfied: wrapt>=1.11.0 in /usr/local/lib/python3.7/dist-packages (from tensorflow) (1.14.1)\n",
            "Requirement already satisfied: grpcio<2.0,>=1.24.3 in /usr/local/lib/python3.7/dist-packages (from tensorflow) (1.47.0)\n",
            "Requirement already satisfied: numpy>=1.20 in /usr/local/lib/python3.7/dist-packages (from tensorflow) (1.21.6)\n",
            "Requirement already satisfied: opt-einsum>=2.3.2 in /usr/local/lib/python3.7/dist-packages (from tensorflow) (3.3.0)\n",
            "Requirement already satisfied: termcolor>=1.1.0 in /usr/local/lib/python3.7/dist-packages (from tensorflow) (1.1.0)\n",
            "Requirement already satisfied: tensorflow-estimator<2.9,>=2.8 in /usr/local/lib/python3.7/dist-packages (from tensorflow) (2.8.0)\n",
            "Requirement already satisfied: astunparse>=1.6.0 in /usr/local/lib/python3.7/dist-packages (from tensorflow) (1.6.3)\n",
            "Requirement already satisfied: six>=1.12.0 in /usr/local/lib/python3.7/dist-packages (from tensorflow) (1.15.0)\n",
            "Requirement already satisfied: typing-extensions>=3.6.6 in /usr/local/lib/python3.7/dist-packages (from tensorflow) (4.1.1)\n",
            "Requirement already satisfied: tensorboard<2.9,>=2.8 in /usr/local/lib/python3.7/dist-packages (from tensorflow) (2.8.0)\n",
            "Requirement already satisfied: gast>=0.2.1 in /usr/local/lib/python3.7/dist-packages (from tensorflow) (0.5.3)\n",
            "Requirement already satisfied: google-pasta>=0.1.1 in /usr/local/lib/python3.7/dist-packages (from tensorflow) (0.2.0)\n",
            "Requirement already satisfied: wheel<1.0,>=0.23.0 in /usr/local/lib/python3.7/dist-packages (from astunparse>=1.6.0->tensorflow) (0.37.1)\n",
            "Requirement already satisfied: cached-property in /usr/local/lib/python3.7/dist-packages (from h5py>=2.9.0->tensorflow) (1.5.2)\n",
            "Requirement already satisfied: google-auth<3,>=1.6.3 in /usr/local/lib/python3.7/dist-packages (from tensorboard<2.9,>=2.8->tensorflow) (1.35.0)\n",
            "Requirement already satisfied: requests<3,>=2.21.0 in /usr/local/lib/python3.7/dist-packages (from tensorboard<2.9,>=2.8->tensorflow) (2.23.0)\n",
            "Requirement already satisfied: google-auth-oauthlib<0.5,>=0.4.1 in /usr/local/lib/python3.7/dist-packages (from tensorboard<2.9,>=2.8->tensorflow) (0.4.6)\n",
            "Requirement already satisfied: tensorboard-data-server<0.7.0,>=0.6.0 in /usr/local/lib/python3.7/dist-packages (from tensorboard<2.9,>=2.8->tensorflow) (0.6.1)\n",
            "Requirement already satisfied: tensorboard-plugin-wit>=1.6.0 in /usr/local/lib/python3.7/dist-packages (from tensorboard<2.9,>=2.8->tensorflow) (1.8.1)\n",
            "Requirement already satisfied: werkzeug>=0.11.15 in /usr/local/lib/python3.7/dist-packages (from tensorboard<2.9,>=2.8->tensorflow) (1.0.1)\n",
            "Requirement already satisfied: markdown>=2.6.8 in /usr/local/lib/python3.7/dist-packages (from tensorboard<2.9,>=2.8->tensorflow) (3.4.1)\n",
            "Requirement already satisfied: pyasn1-modules>=0.2.1 in /usr/local/lib/python3.7/dist-packages (from google-auth<3,>=1.6.3->tensorboard<2.9,>=2.8->tensorflow) (0.2.8)\n",
            "Requirement already satisfied: rsa<5,>=3.1.4 in /usr/local/lib/python3.7/dist-packages (from google-auth<3,>=1.6.3->tensorboard<2.9,>=2.8->tensorflow) (4.9)\n",
            "Requirement already satisfied: cachetools<5.0,>=2.0.0 in /usr/local/lib/python3.7/dist-packages (from google-auth<3,>=1.6.3->tensorboard<2.9,>=2.8->tensorflow) (4.2.4)\n",
            "Requirement already satisfied: requests-oauthlib>=0.7.0 in /usr/local/lib/python3.7/dist-packages (from google-auth-oauthlib<0.5,>=0.4.1->tensorboard<2.9,>=2.8->tensorflow) (1.3.1)\n",
            "Requirement already satisfied: importlib-metadata>=4.4 in /usr/local/lib/python3.7/dist-packages (from markdown>=2.6.8->tensorboard<2.9,>=2.8->tensorflow) (4.12.0)\n",
            "Requirement already satisfied: zipp>=0.5 in /usr/local/lib/python3.7/dist-packages (from importlib-metadata>=4.4->markdown>=2.6.8->tensorboard<2.9,>=2.8->tensorflow) (3.8.1)\n",
            "Requirement already satisfied: pyasn1<0.5.0,>=0.4.6 in /usr/local/lib/python3.7/dist-packages (from pyasn1-modules>=0.2.1->google-auth<3,>=1.6.3->tensorboard<2.9,>=2.8->tensorflow) (0.4.8)\n",
            "Requirement already satisfied: certifi>=2017.4.17 in /usr/local/lib/python3.7/dist-packages (from requests<3,>=2.21.0->tensorboard<2.9,>=2.8->tensorflow) (2022.6.15)\n",
            "Requirement already satisfied: idna<3,>=2.5 in /usr/local/lib/python3.7/dist-packages (from requests<3,>=2.21.0->tensorboard<2.9,>=2.8->tensorflow) (2.10)\n",
            "Requirement already satisfied: chardet<4,>=3.0.2 in /usr/local/lib/python3.7/dist-packages (from requests<3,>=2.21.0->tensorboard<2.9,>=2.8->tensorflow) (3.0.4)\n",
            "Requirement already satisfied: urllib3!=1.25.0,!=1.25.1,<1.26,>=1.21.1 in /usr/local/lib/python3.7/dist-packages (from requests<3,>=2.21.0->tensorboard<2.9,>=2.8->tensorflow) (1.24.3)\n",
            "Requirement already satisfied: oauthlib>=3.0.0 in /usr/local/lib/python3.7/dist-packages (from requests-oauthlib>=0.7.0->google-auth-oauthlib<0.5,>=0.4.1->tensorboard<2.9,>=2.8->tensorflow) (3.2.0)\n",
            "Looking in indexes: https://pypi.org/simple, https://us-python.pkg.dev/colab-wheels/public/simple/\n",
            "Requirement already satisfied: keras in /usr/local/lib/python3.7/dist-packages (2.8.0)\n"
          ]
        }
      ],
      "source": [
        "!pip install tensorflow\n",
        "!pip install keras"
      ]
    },
    {
      "cell_type": "code",
      "execution_count": null,
      "metadata": {
        "id": "_sMOPoAu7z2X"
      },
      "outputs": [],
      "source": [
        "import numpy as np\n",
        "import os\n",
        "import matplotlib.pyplot as plt\n",
        "import sklearn\n",
        "import imutils\n",
        "from imutils import paths\n",
        "import tensorflow as tf\n",
        "from keras import activations\n",
        "\n",
        "from tensorflow.keras.applications import MobileNetV2\n",
        "from tensorflow.keras.layers import AveragePooling2D\n",
        "from tensorflow.keras.layers import Dropout\n",
        "from tensorflow.keras.layers import Flatten\n",
        "from tensorflow.keras.layers import Dense\n",
        "from tensorflow.keras.layers import Input\n",
        "\n",
        "from tensorflow.keras.models import Model\n",
        "from tensorflow.keras.optimizers import Adam\n",
        "\n",
        "from tensorflow.keras.applications.mobilenet_v2 import preprocess_input\n",
        "\n",
        "from tensorflow.keras.preprocessing.image import ImageDataGenerator\n",
        "from tensorflow.keras.preprocessing.image import img_to_array\n",
        "from tensorflow.keras.preprocessing.image import load_img\n",
        "\n",
        "from tensorflow.keras.utils import to_categorical\n",
        "\n",
        "from sklearn.preprocessing import LabelBinarizer\n",
        "from sklearn.model_selection import train_test_split\n",
        "from sklearn.metrics import classification_report,confusion_matrix,accuracy_score\n"
      ]
    },
    {
      "cell_type": "code",
      "execution_count": null,
      "metadata": {
        "id": "S9iUox-F-cWN"
      },
      "outputs": [],
      "source": [
        "dataset = \"/content/drive/MyDrive/FaceMaskClassifier/Dataset\"\n",
        "imagePaths=list(paths.list_images(dataset))"
      ]
    },
    {
      "cell_type": "code",
      "execution_count": null,
      "metadata": {
        "id": "E72Bo3NVByDH"
      },
      "outputs": [],
      "source": [
        "data = []\n",
        "labels = []\n",
        "\n",
        "for i in imagePaths:\n",
        "  label = i.split(os.path.sep)[-2]\n",
        "  labels.append(label)\n",
        "  image = load_img(i,target_size=(224,224))\n",
        "  image = img_to_array(image)\n",
        "  image = preprocess_input(image)\n",
        "  data.append(image)"
      ]
    },
    {
      "cell_type": "code",
      "execution_count": null,
      "metadata": {
        "id": "KcmbOKsaFJKy"
      },
      "outputs": [],
      "source": [
        "data = np.array(data,dtype='float32')\n",
        "labels=np.array(labels)"
      ]
    },
    {
      "cell_type": "code",
      "execution_count": null,
      "metadata": {
        "colab": {
          "base_uri": "https://localhost:8080/"
        },
        "id": "2FiMtGkkGAfQ",
        "outputId": "2972ce84-d20e-4f54-a994-dc84f9294afe"
      },
      "outputs": [
        {
          "output_type": "execute_result",
          "data": {
            "text/plain": [
              "(6116, 224, 224, 3)"
            ]
          },
          "metadata": {},
          "execution_count": 6
        }
      ],
      "source": [
        "data.shape"
      ]
    },
    {
      "cell_type": "code",
      "execution_count": null,
      "metadata": {
        "colab": {
          "base_uri": "https://localhost:8080/"
        },
        "id": "4jYuIk24GQzf",
        "outputId": "49ed6540-5042-4a73-d74d-00c7cc79d675"
      },
      "outputs": [
        {
          "output_type": "execute_result",
          "data": {
            "text/plain": [
              "array(['with_mask', 'with_mask', 'with_mask', ..., 'without_mask',\n",
              "       'without_mask', 'without_mask'], dtype='<U12')"
            ]
          },
          "metadata": {},
          "execution_count": 7
        }
      ],
      "source": [
        "labels"
      ]
    },
    {
      "cell_type": "code",
      "execution_count": null,
      "metadata": {
        "id": "5SfkvQtrG3M6"
      },
      "outputs": [],
      "source": [
        "lb = LabelBinarizer()\n",
        "labels = lb.fit_transform(labels)\n",
        "labels = to_categorical(labels)"
      ]
    },
    {
      "cell_type": "code",
      "execution_count": null,
      "metadata": {
        "colab": {
          "base_uri": "https://localhost:8080/"
        },
        "id": "3zIpM_FfL76b",
        "outputId": "ceb2ce79-dcd5-480b-faf0-d8fef417690f"
      },
      "outputs": [
        {
          "output_type": "execute_result",
          "data": {
            "text/plain": [
              "array([[1., 0.],\n",
              "       [1., 0.],\n",
              "       [1., 0.],\n",
              "       ...,\n",
              "       [0., 1.],\n",
              "       [0., 1.],\n",
              "       [0., 1.]], dtype=float32)"
            ]
          },
          "metadata": {},
          "execution_count": 9
        }
      ],
      "source": [
        "labels"
      ]
    },
    {
      "cell_type": "code",
      "execution_count": null,
      "metadata": {
        "id": "7TU0oo7pMMyf"
      },
      "outputs": [],
      "source": [
        "train_X, test_X, train_Y, test_Y = train_test_split(data, labels, test_size = 0.20, random_state = 10, stratify= labels )"
      ]
    },
    {
      "cell_type": "code",
      "execution_count": null,
      "metadata": {
        "colab": {
          "base_uri": "https://localhost:8080/"
        },
        "id": "oFSlWKSmijcK",
        "outputId": "6ed89578-8bb7-4918-c90a-641251b7ab29"
      },
      "outputs": [
        {
          "output_type": "execute_result",
          "data": {
            "text/plain": [
              "(4892, 224, 224, 3)"
            ]
          },
          "metadata": {},
          "execution_count": 11
        }
      ],
      "source": [
        "train_X.shape"
      ]
    },
    {
      "cell_type": "code",
      "execution_count": null,
      "metadata": {
        "colab": {
          "base_uri": "https://localhost:8080/"
        },
        "id": "beO_UCj8iqFM",
        "outputId": "e272ce31-f545-4b1a-eef0-319683e31417"
      },
      "outputs": [
        {
          "output_type": "execute_result",
          "data": {
            "text/plain": [
              "(4892, 2)"
            ]
          },
          "metadata": {},
          "execution_count": 12
        }
      ],
      "source": [
        "train_Y.shape"
      ]
    },
    {
      "cell_type": "code",
      "execution_count": null,
      "metadata": {
        "colab": {
          "base_uri": "https://localhost:8080/"
        },
        "id": "Xx4eaKodiudB",
        "outputId": "e8859f13-b193-4e0d-efba-7029c5a624ed"
      },
      "outputs": [
        {
          "output_type": "execute_result",
          "data": {
            "text/plain": [
              "(1224, 224, 224, 3)"
            ]
          },
          "metadata": {},
          "execution_count": 13
        }
      ],
      "source": [
        "test_X.shape"
      ]
    },
    {
      "cell_type": "code",
      "execution_count": null,
      "metadata": {
        "colab": {
          "base_uri": "https://localhost:8080/"
        },
        "id": "mfkvt49Di1rt",
        "outputId": "0fcbf25b-c35d-4098-e13c-36bf564fd174"
      },
      "outputs": [
        {
          "output_type": "execute_result",
          "data": {
            "text/plain": [
              "(1224, 2)"
            ]
          },
          "metadata": {},
          "execution_count": 14
        }
      ],
      "source": [
        "test_Y.shape"
      ]
    },
    {
      "cell_type": "code",
      "execution_count": null,
      "metadata": {
        "id": "Kg06Ck8WrJGr"
      },
      "outputs": [],
      "source": [
        "data_aug = ImageDataGenerator(rotation_range=20,\n",
        "                         zoom_range=0.15,\n",
        "                         width_shift_range=0.2,\n",
        "                         height_shift_range=0.2,\n",
        "                         shear_range=0.15,\n",
        "                         horizontal_flip=True, \n",
        "                         vertical_flip=True,\n",
        "                         fill_mode='nearest')"
      ]
    },
    {
      "cell_type": "code",
      "execution_count": null,
      "metadata": {
        "colab": {
          "base_uri": "https://localhost:8080/"
        },
        "id": "F47Ic25xi9Si",
        "outputId": "efac5807-7918-4071-971e-0487ea6fd2fb"
      },
      "outputs": [
        {
          "output_type": "stream",
          "name": "stdout",
          "text": [
            "WARNING:tensorflow:`input_shape` is undefined or non-square, or `rows` is not in [96, 128, 160, 192, 224]. Weights for input shape (224, 224) will be loaded as the default.\n",
            "Downloading data from https://storage.googleapis.com/tensorflow/keras-applications/mobilenet_v2/mobilenet_v2_weights_tf_dim_ordering_tf_kernels_1.0_224_no_top.h5\n",
            "9412608/9406464 [==============================] - 0s 0us/step\n",
            "9420800/9406464 [==============================] - 0s 0us/step\n"
          ]
        }
      ],
      "source": [
        "MobileNetV2_Model = MobileNetV2(weights = 'imagenet', include_top=False,input_tensor=Input(shape=(224,224,3)))"
      ]
    },
    {
      "cell_type": "code",
      "execution_count": null,
      "metadata": {
        "id": "98vzo0GPmH0D"
      },
      "outputs": [],
      "source": [
        "Model_1 = MobileNetV2_Model.output\n",
        "Model_1 = AveragePooling2D(pool_size = (7,7))(Model_1)\n",
        "Model_1 = Flatten(name='Flatten')(Model_1)\n",
        "Model_1 = Dense(128,activation = 'relu')(Model_1)\n",
        "Model_1 = Dropout(0.5)(Model_1)\n",
        "Model_1 = Dense(2, activation='softmax')(Model_1)\n",
        "\n",
        "model_1 = Model(inputs = MobileNetV2_Model.input, outputs = Model_1)"
      ]
    },
    {
      "cell_type": "code",
      "execution_count": null,
      "metadata": {
        "id": "3oFOjF7dn4a9"
      },
      "outputs": [],
      "source": [
        "for layer in MobileNetV2_Model.layers:\n",
        "  layer.trainable = False"
      ]
    },
    {
      "cell_type": "code",
      "execution_count": null,
      "metadata": {
        "colab": {
          "base_uri": "https://localhost:8080/"
        },
        "id": "UMRtWoK2nl-4",
        "outputId": "3d4b2097-4244-4f83-d509-3ac0480d7e69"
      },
      "outputs": [
        {
          "metadata": {
            "tags": null
          },
          "name": "stderr",
          "output_type": "stream",
          "text": [
            "/usr/local/lib/python3.7/dist-packages/keras/optimizer_v2/adam.py:105: UserWarning: The `lr` argument is deprecated, use `learning_rate` instead.\n",
            "  super(Adam, self).__init__(name, **kwargs)\n"
          ]
        },
        {
          "output_type": "stream",
          "name": "stdout",
          "text": [
            "Epoch 1/10\n",
            "407/407 [==============================] - 206s 496ms/step - loss: 0.1889 - accuracy: 0.9256 - val_loss: 0.0794 - val_accuracy: 0.9673\n",
            "Epoch 2/10\n",
            "407/407 [==============================] - 204s 501ms/step - loss: 0.1253 - accuracy: 0.9539 - val_loss: 0.0642 - val_accuracy: 0.9722\n",
            "Epoch 3/10\n",
            "407/407 [==============================] - 205s 504ms/step - loss: 0.1149 - accuracy: 0.9570 - val_loss: 0.0693 - val_accuracy: 0.9763\n",
            "Epoch 4/10\n",
            "407/407 [==============================] - 207s 509ms/step - loss: 0.0978 - accuracy: 0.9615 - val_loss: 0.0556 - val_accuracy: 0.9763\n",
            "Epoch 5/10\n",
            "407/407 [==============================] - 201s 494ms/step - loss: 0.0963 - accuracy: 0.9650 - val_loss: 0.0604 - val_accuracy: 0.9763\n",
            "Epoch 6/10\n",
            "407/407 [==============================] - 201s 495ms/step - loss: 0.0950 - accuracy: 0.9674 - val_loss: 0.0560 - val_accuracy: 0.9763\n",
            "Epoch 7/10\n",
            "407/407 [==============================] - 202s 496ms/step - loss: 0.0813 - accuracy: 0.9672 - val_loss: 0.0576 - val_accuracy: 0.9771\n",
            "Epoch 8/10\n",
            "407/407 [==============================] - 203s 498ms/step - loss: 0.0976 - accuracy: 0.9623 - val_loss: 0.0558 - val_accuracy: 0.9763\n",
            "Epoch 9/10\n",
            "407/407 [==============================] - 198s 487ms/step - loss: 0.0817 - accuracy: 0.9709 - val_loss: 0.0516 - val_accuracy: 0.9788\n",
            "Epoch 10/10\n",
            "407/407 [==============================] - 197s 483ms/step - loss: 0.0791 - accuracy: 0.9693 - val_loss: 0.0728 - val_accuracy: 0.9730\n",
            "INFO:tensorflow:Assets written to: /content/drive/MyDrive/Model/mobilenetv2.model/assets\n"
          ]
        }
      ],
      "source": [
        "learning_rate = 0.001\n",
        "Epochs = 10\n",
        "BS = 12\n",
        "\n",
        "opt = Adam(lr = learning_rate, decay = learning_rate/Epochs)\n",
        "model_1.compile(loss='binary_crossentropy',optimizer = opt, metrics=['accuracy'])\n",
        "\n",
        "History_model_1 = model_1.fit(\n",
        "    data_aug.flow(train_X,train_Y,batch_size=BS),\n",
        "    steps_per_epoch = len(train_X)//BS,\n",
        "    validation_data = (test_X,test_Y),\n",
        "    validation_steps = len(test_X)//BS,\n",
        "    epochs = Epochs\n",
        ")\n",
        "\n",
        "model_1.save(r'/content/drive/MyDrive/Model/mobilenetv2.model')\n"
      ]
    },
    {
      "cell_type": "code",
      "execution_count": null,
      "metadata": {
        "colab": {
          "base_uri": "https://localhost:8080/"
        },
        "id": "_wFW0g5UqBEU",
        "outputId": "bcf20d43-37c0-40fb-bb7c-605f4a4cd43a"
      },
      "outputs": [
        {
          "output_type": "stream",
          "name": "stdout",
          "text": [
            "              precision    recall  f1-score   support\n",
            "\n",
            "   with_mask       0.95      1.00      0.97       610\n",
            "without_mask       1.00      0.95      0.97       614\n",
            "\n",
            "    accuracy                           0.97      1224\n",
            "   macro avg       0.97      0.97      0.97      1224\n",
            "weighted avg       0.97      0.97      0.97      1224\n",
            "\n"
          ]
        }
      ],
      "source": [
        "predict_model_1 = model_1.predict(test_X,batch_size = BS)\n",
        "predict_model_1 = np.argmax(predict_model_1,axis = 1)\n",
        "print(classification_report(test_Y.argmax(axis = 1), predict_model_1, target_names = lb.classes_))"
      ]
    },
    {
      "cell_type": "code",
      "execution_count": null,
      "metadata": {
        "id": "2yOJuvC1aoYx"
      },
      "outputs": [],
      "source": [
        "print(confusion_matrix(test_Y.argmax(axis = 1), predict_model_1))"
      ]
    },
    {
      "cell_type": "code",
      "execution_count": null,
      "metadata": {
        "colab": {
          "base_uri": "https://localhost:8080/"
        },
        "id": "mQTaiGF_abRL",
        "outputId": "6f7388d0-5f5e-4edf-c9c6-34cc16ecd8a6"
      },
      "outputs": [
        {
          "output_type": "stream",
          "name": "stdout",
          "text": [
            "Accuracy: 0.9730392156862745\n"
          ]
        }
      ],
      "source": [
        "print('Accuracy:', accuracy_score(test_Y.argmax(axis = 1), predict_model_1))"
      ]
    },
    {
      "cell_type": "code",
      "execution_count": null,
      "metadata": {
        "colab": {
          "base_uri": "https://localhost:8080/",
          "height": 279
        },
        "id": "DQQBA9xtvuVS",
        "outputId": "0802c830-ab32-4472-eb5e-0f8dacc457d3"
      },
      "outputs": [
        {
          "output_type": "display_data",
          "data": {
            "text/plain": [
              "<Figure size 432x288 with 1 Axes>"
            ],
            "image/png": "[encoded data removed]"
          },
          "metadata": {
            "needs_background": "light"
          }
        }
      ],
      "source": [
        "accu_model_1 = History_model_1.history['accuracy']\n",
        "val_acc_model_1 = History_model_1.history['val_accuracy']\n",
        "\n",
        "plt.plot(accu_model_1, label=\"Accuracy\")\n",
        "plt.plot(val_acc_model_1)\n",
        "plt.xlabel(\"Epoch\")\n",
        "plt.ylabel(\"Accuracy\")\n",
        "plt.legend(['Accuracy', 'val_accuracy'])\n",
        "plt.plot(np.argmax(History_model_1.history[\"val_accuracy\"]), np.max(History_model_1.history[\"val_accuracy\"]), marker=\"x\", color=\"r\",\n",
        "         label=\"best model\")\n",
        "plt.show()"
      ]
    },
    {
      "cell_type": "code",
      "execution_count": null,
      "metadata": {
        "colab": {
          "base_uri": "https://localhost:8080/",
          "height": 295
        },
        "id": "6k0E1iomvxuZ",
        "outputId": "6fe1e5e0-0efc-4057-842d-f757baaf75b6"
      },
      "outputs": [
        {
          "output_type": "display_data",
          "data": {
            "text/plain": [
              "<Figure size 432x288 with 1 Axes>"
            ],
            "image/png": "[encoded data removed]"
          },
          "metadata": {
            "needs_background": "light"
          }
        }
      ],
      "source": [
        "plt.title(\"Learning curve\")\n",
        "plt.plot(History_model_1.history[\"loss\"], label=\"loss\")\n",
        "plt.plot(History_model_1.history[\"val_loss\"], label=\"val_loss\")\n",
        "plt.plot(np.argmin(History_model_1.history[\"val_loss\"]), np.min(History_model_1.history[\"val_loss\"]), marker=\"x\", color=\"r\",\n",
        "         label=\"best model\")\n",
        "plt.xlabel(\"Epochs\")\n",
        "plt.ylabel(\"log_loss\")\n",
        "plt.legend();"
      ]
    },
    {
      "cell_type": "markdown",
      "metadata": {
        "id": "-4VopDVEvYrr"
      },
      "source": [
        "## ResNet50"
      ]
    },
    {
      "cell_type": "code",
      "source": [
        "from keras.applications.resnet import ResNet50"
      ],
      "metadata": {
        "id": "yzrLIeayUnXD"
      },
      "execution_count": null,
      "outputs": []
    },
    {
      "cell_type": "code",
      "execution_count": null,
      "metadata": {
        "colab": {
          "base_uri": "https://localhost:8080/"
        },
        "id": "LuddHgdiwtjg",
        "outputId": "4f2b4ec1-a498-4b91-ed5d-36523b0b43a7"
      },
      "outputs": [
        {
          "output_type": "stream",
          "name": "stdout",
          "text": [
            "Downloading data from https://storage.googleapis.com/tensorflow/keras-applications/resnet/resnet50_weights_tf_dim_ordering_tf_kernels_notop.h5\n",
            "94773248/94765736 [==============================] - 1s 0us/step\n",
            "94781440/94765736 [==============================] - 1s 0us/step\n"
          ]
        }
      ],
      "source": [
        "resnet50_model = ResNet50(weights = 'imagenet', include_top=False,input_tensor=Input(shape=(224,224,3)))"
      ]
    },
    {
      "cell_type": "code",
      "execution_count": null,
      "metadata": {
        "id": "-zWxZeUSx1si"
      },
      "outputs": [],
      "source": [
        "Model_2 = resnet50_model.output\n",
        "Model_2 = AveragePooling2D(pool_size = (7,7))(Model_2)\n",
        "Model_2 = Flatten(name='Flatten')(Model_2)\n",
        "Model_2 = Dense(128,activation = 'relu')(Model_2)\n",
        "Model_2 = Dropout(0.5)(Model_2)\n",
        "Model_2 = Dense(2, activation='softmax')(Model_2)\n",
        "\n",
        "model_2 = Model(inputs = resnet50_model.input, outputs = Model_2)"
      ]
    },
    {
      "cell_type": "code",
      "execution_count": null,
      "metadata": {
        "id": "Z0Jcv2ZFx_5K"
      },
      "outputs": [],
      "source": [
        "for layer in resnet50_model.layers:\n",
        "  layer.trainable = False"
      ]
    },
    {
      "cell_type": "code",
      "source": [
        "learning_rate = 0.001\n",
        "Epochs = 10\n",
        "BS = 12\n",
        "\n",
        "opt = Adam(learning_rate, decay = learning_rate/Epochs)\n",
        "model_2.compile(optimizer = opt, loss='binary_crossentropy', metrics=['accuracy'])\n",
        "\n",
        "History_model_2 = model_2.fit(\n",
        "    data_aug.flow(train_X,train_Y,batch_size=BS),\n",
        "    steps_per_epoch = len(train_X)//BS,\n",
        "    validation_data = (test_X,test_Y),\n",
        "    validation_steps = len(test_X)//BS,\n",
        "    epochs = Epochs)\n",
        "\n",
        "model_2.save(r'/content/drive/MyDrive/FaceMaskClassifier/ResNet50Model')"
      ],
      "metadata": {
        "colab": {
          "base_uri": "https://localhost:8080/"
        },
        "id": "GBde2awQLQA9",
        "outputId": "f091f1b7-fa9e-43b3-a4b5-9463b6662dd1"
      },
      "execution_count": null,
      "outputs": [
        {
          "output_type": "stream",
          "name": "stdout",
          "text": [
            "Epoch 1/10\n",
            "407/407 [==============================] - 915s 2s/step - loss: 0.6912 - accuracy: 0.5471 - val_loss: 0.6414 - val_accuracy: 0.7753\n",
            "Epoch 2/10\n",
            "407/407 [==============================] - 921s 2s/step - loss: 0.6623 - accuracy: 0.5957 - val_loss: 0.5909 - val_accuracy: 0.7778\n",
            "Epoch 3/10\n",
            "407/407 [==============================] - 934s 2s/step - loss: 0.6469 - accuracy: 0.6232 - val_loss: 0.5888 - val_accuracy: 0.7958\n",
            "Epoch 4/10\n",
            "407/407 [==============================] - 932s 2s/step - loss: 0.6380 - accuracy: 0.6441 - val_loss: 0.5639 - val_accuracy: 0.8154\n",
            "Epoch 5/10\n",
            "407/407 [==============================] - 930s 2s/step - loss: 0.6320 - accuracy: 0.6504 - val_loss: 0.5592 - val_accuracy: 0.7590\n",
            "Epoch 6/10\n",
            "407/407 [==============================] - 943s 2s/step - loss: 0.6049 - accuracy: 0.6732 - val_loss: 0.4895 - val_accuracy: 0.8317\n",
            "Epoch 7/10\n",
            "407/407 [==============================] - 939s 2s/step - loss: 0.5948 - accuracy: 0.6932 - val_loss: 0.4963 - val_accuracy: 0.8448\n",
            "Epoch 8/10\n",
            "407/407 [==============================] - 938s 2s/step - loss: 0.5793 - accuracy: 0.7098 - val_loss: 0.4901 - val_accuracy: 0.8489\n",
            "Epoch 9/10\n",
            "407/407 [==============================] - 929s 2s/step - loss: 0.5660 - accuracy: 0.7076 - val_loss: 0.4551 - val_accuracy: 0.8252\n",
            "Epoch 10/10\n",
            "407/407 [==============================] - 942s 2s/step - loss: 0.5653 - accuracy: 0.7139 - val_loss: 0.4798 - val_accuracy: 0.7868\n",
            "INFO:tensorflow:Assets written to: /content/drive/MyDrive/FaceMaskClassifier/ResNet50Model/assets\n"
          ]
        }
      ]
    },
    {
      "cell_type": "code",
      "source": [
        "predict_model_2 = model_2.predict(test_X,batch_size = BS)\n",
        "predict_model_2 = np.argmax(predict_model_2,axis = 1)\n",
        "print(classification_report(test_Y.argmax(axis = 1), predict_model_2, target_names = lb.classes_))"
      ],
      "metadata": {
        "colab": {
          "base_uri": "https://localhost:8080/"
        },
        "id": "toNrjOGCM9VX",
        "outputId": "33f0d0ca-cf11-4461-aa01-551c0cbfb7d2"
      },
      "execution_count": null,
      "outputs": [
        {
          "output_type": "stream",
          "name": "stdout",
          "text": [
            "              precision    recall  f1-score   support\n",
            "\n",
            "   with_mask       0.72      0.93      0.81       610\n",
            "without_mask       0.90      0.65      0.75       614\n",
            "\n",
            "    accuracy                           0.79      1224\n",
            "   macro avg       0.81      0.79      0.78      1224\n",
            "weighted avg       0.81      0.79      0.78      1224\n",
            "\n"
          ]
        }
      ]
    },
    {
      "cell_type": "code",
      "source": [
        "print(confusion_matrix(test_Y.argmax(axis = 1), predict_model_2))"
      ],
      "metadata": {
        "colab": {
          "base_uri": "https://localhost:8080/"
        },
        "id": "2CsL3xbQUISo",
        "outputId": "8592adbb-4312-4330-8d33-d123a17f3d6a"
      },
      "execution_count": null,
      "outputs": [
        {
          "output_type": "stream",
          "name": "stdout",
          "text": [
            "[[566  44]\n",
            " [217 397]]\n"
          ]
        }
      ]
    },
    {
      "cell_type": "code",
      "source": [
        "print('Accuracy:', accuracy_score(test_Y.argmax(axis = 1), predict_model_2))"
      ],
      "metadata": {
        "colab": {
          "base_uri": "https://localhost:8080/"
        },
        "id": "1T9Vff5WUKcY",
        "outputId": "ef1568eb-34e3-41c1-a1ad-17aa275c8d55"
      },
      "execution_count": null,
      "outputs": [
        {
          "output_type": "stream",
          "name": "stdout",
          "text": [
            "Accuracy: 0.7867647058823529\n"
          ]
        }
      ]
    },
    {
      "cell_type": "code",
      "source": [
        "accu_model_2 = History_model_2.history['accuracy']\n",
        "val_acc_model_2 = History_model_2.history['val_accuracy']\n",
        "\n",
        "plt.plot(accu_model_1, label=\"Accuracy\")\n",
        "plt.plot(val_acc_model_2)\n",
        "plt.xlabel(\"Epoch\")\n",
        "plt.ylabel(\"Accuracy\")\n",
        "plt.legend(['Accuracy', 'val_accuracy'])\n",
        "plt.plot(np.argmax(History_model_2.history[\"val_accuracy\"]), np.max(History_model_2.history[\"val_accuracy\"]), marker=\"x\", color=\"r\",\n",
        "         label=\"best model\")\n",
        "plt.show()"
      ],
      "metadata": {
        "colab": {
          "base_uri": "https://localhost:8080/",
          "height": 279
        },
        "id": "5elrTIeQUNZK",
        "outputId": "b2d7588d-d478-4f8e-912c-ffb55a41cb36"
      },
      "execution_count": null,
      "outputs": [
        {
          "output_type": "display_data",
          "data": {
            "text/plain": [
              "<Figure size 432x288 with 1 Axes>"
            ],
            "image/png": "[encoded data removed]"
          },
          "metadata": {
            "needs_background": "light"
          }
        }
      ]
    },
    {
      "cell_type": "code",
      "source": [
        "plt.title(\"Learning curve\")\n",
        "plt.plot(History_model_2.history[\"loss\"], label=\"loss\")\n",
        "plt.plot(History_model_2.history[\"val_loss\"], label=\"val_loss\")\n",
        "plt.plot(np.argmin(History_model_2.history[\"val_loss\"]), np.min(History_model_2.history[\"val_loss\"]), marker=\"x\", color=\"r\",\n",
        "         label=\"best model\")\n",
        "plt.xlabel(\"Epochs\")\n",
        "plt.ylabel(\"log_loss\")\n",
        "plt.legend();"
      ],
      "metadata": {
        "colab": {
          "base_uri": "https://localhost:8080/",
          "height": 295
        },
        "id": "jbmQEqSrQW08",
        "outputId": "65a75740-7a39-4f93-f704-c81b13e20905"
      },
      "execution_count": null,
      "outputs": [
        {
          "output_type": "display_data",
          "data": {
            "text/plain": [
              "<Figure size 432x288 with 1 Axes>"
            ],
            "image/png": "[encoded data removed]"
          },
          "metadata": {
            "needs_background": "light"
          }
        }
      ]
    }
  ],
  "metadata": {
    "colab": {
      "collapsed_sections": [],
      "name": "FaceMaskKaggle_MobileNetV2ResNet50.ipynb",
      "provenance": []
    },
    "gpuClass": "standard",
    "kernelspec": {
      "display_name": "Python 3",
      "name": "python3"
    },
    "language_info": {
      "name": "python"
    }
  },
  "nbformat": 4,
  "nbformat_minor": 0
}